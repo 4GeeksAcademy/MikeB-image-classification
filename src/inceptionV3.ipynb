{
 "cells": [
  {
   "cell_type": "markdown",
   "metadata": {},
   "source": [
    "# Dogs vs. cats image classification: Inception V3"
   ]
  },
  {
   "cell_type": "code",
   "execution_count": null,
   "metadata": {
    "execution": {
     "iopub.execute_input": "2025-04-04T04:54:53.015654Z",
     "iopub.status.busy": "2025-04-04T04:54:53.015340Z",
     "iopub.status.idle": "2025-04-04T04:54:53.021840Z",
     "shell.execute_reply": "2025-04-04T04:54:53.020870Z",
     "shell.execute_reply.started": "2025-04-04T04:54:53.015629Z"
    },
    "trusted": true
   },
   "outputs": [],
   "source": [
    "# Handle imports up-front\n",
    "import os\n",
    "import sys\n",
    "import glob\n",
    "\n",
    "# Silence logging messages from TensorFlow, except errors\n",
    "os.environ['TF_CPP_MIN_LOG_LEVEL']='2'\n",
    "\n",
    "# Use a specific GPU\n",
    "os.environ['CUDA_VISIBLE_DEVICES']='2'\n",
    "\n",
    "# PyPI imports\n",
    "import numpy as np\n",
    "import matplotlib.pyplot as plt\n",
    "import tensorflow as tf\n",
    "from keras.applications.inception_v3 import InceptionV3\n",
    "from keras.models import Model\n",
    "from keras.layers import Dense, GlobalAveragePooling2D, Dropout\n",
    "from keras.optimizers import SGD\n",
    "from keras import regularizers\n",
    "from sklearn.metrics import accuracy_score, confusion_matrix, ConfusionMatrixDisplay\n",
    "\n",
    "# Figure out if we are running on Kaggle or not, if so\n",
    "# add the location of utils.py to path so we can import\n",
    "path_list=os.getcwd().split(os.sep)\n",
    "\n",
    "if path_list[1] == 'kaggle':\n",
    "    sys.path.append('/kaggle/usr/lib/image_classification_functions')\n",
    "\n",
    "# Import custom helper functions from utils.py\n",
    "from image_classification_functions import prep_data\n",
    "from image_classification_functions import plot_single_training_run\n",
    "\n",
    "# Silence logging messages from TensorFlow, except errors\n",
    "tf.get_logger().setLevel('ERROR')\n",
    "\n",
    "# Limit TensorFlow's CPU usage\n",
    "tf.config.threading.set_intra_op_parallelism_threads(2)\n",
    "tf.config.threading.set_inter_op_parallelism_threads(2)"
   ]
  },
  {
   "cell_type": "code",
   "execution_count": null,
   "metadata": {},
   "outputs": [],
   "source": [
    "tune_output=True\n",
    "tune_inception_block=True\n",
    "\n",
    "output_tuned_savefile='../data/models/inceptionV3_output_tuned.pkl'\n",
    "inception_tuned_savefile='../data/models/inceptionV3_tuned.pkl'"
   ]
  },
  {
   "cell_type": "markdown",
   "metadata": {},
   "source": [
    "## 1. Data preparation\n",
    "\n",
    "### 1.1. Load the data paths"
   ]
  },
  {
   "cell_type": "code",
   "execution_count": null,
   "metadata": {
    "execution": {
     "iopub.execute_input": "2025-04-04T04:42:17.852981Z",
     "iopub.status.busy": "2025-04-04T04:42:17.852484Z",
     "iopub.status.idle": "2025-04-04T04:42:29.033705Z",
     "shell.execute_reply": "2025-04-04T04:42:29.032749Z",
     "shell.execute_reply.started": "2025-04-04T04:42:17.852946Z"
    },
    "trusted": true
   },
   "outputs": [],
   "source": [
    "# Decompress and organize the images\n",
    "training_data_path, validation_data_path, testing_data_path=prep_data()\n",
    "\n",
    "# Get lists of training and validation dog and cat images\n",
    "training_dogs=glob.glob(f'{training_data_path}/dogs/dog.*')\n",
    "training_cats=glob.glob(f'{training_data_path}/cats/cat.*')\n",
    "validation_dogs=glob.glob(f'{validation_data_path}/dogs/dog.*')\n",
    "validation_cats=glob.glob(f'{validation_data_path}/cats/cat.*')"
   ]
  },
  {
   "cell_type": "markdown",
   "metadata": {},
   "source": [
    "### 1.2. Create training and validation datasets"
   ]
  },
  {
   "cell_type": "code",
   "execution_count": null,
   "metadata": {
    "execution": {
     "iopub.execute_input": "2025-04-04T04:42:29.035376Z",
     "iopub.status.busy": "2025-04-04T04:42:29.035130Z",
     "iopub.status.idle": "2025-04-04T04:42:32.294406Z",
     "shell.execute_reply": "2025-04-04T04:42:32.293760Z",
     "shell.execute_reply.started": "2025-04-04T04:42:29.035355Z"
    },
    "trusted": true
   },
   "outputs": [],
   "source": [
    "training_dataset=tf.keras.utils.image_dataset_from_directory(\n",
    "    training_data_path,\n",
    "    image_size=(256, int(256*(3/4))),\n",
    "    batch_size=16\n",
    ")\n",
    "\n",
    "validation_dataset=tf.keras.utils.image_dataset_from_directory(\n",
    "    validation_data_path,\n",
    "    image_size=(256, int(256*(3/4))),\n",
    "    batch_size=16\n",
    ")"
   ]
  },
  {
   "cell_type": "markdown",
   "metadata": {},
   "source": [
    "### 1.3. Create testing dataset"
   ]
  },
  {
   "cell_type": "code",
   "execution_count": null,
   "metadata": {
    "execution": {
     "iopub.execute_input": "2025-04-04T04:42:32.295933Z",
     "iopub.status.busy": "2025-04-04T04:42:32.295708Z",
     "iopub.status.idle": "2025-04-04T04:42:32.972562Z",
     "shell.execute_reply": "2025-04-04T04:42:32.971933Z",
     "shell.execute_reply.started": "2025-04-04T04:42:32.295915Z"
    },
    "trusted": true
   },
   "outputs": [],
   "source": [
    "testing_dataset=tf.keras.utils.image_dataset_from_directory(\n",
    "    training_data_path,\n",
    "    image_size=(256, int(256*(3/4)))\n",
    ")"
   ]
  },
  {
   "cell_type": "markdown",
   "metadata": {},
   "source": [
    "## 2. Model fine-tuning\n",
    "### 2.1. Train output layers"
   ]
  },
  {
   "cell_type": "code",
   "execution_count": null,
   "metadata": {
    "execution": {
     "iopub.execute_input": "2025-04-04T04:42:32.973484Z",
     "iopub.status.busy": "2025-04-04T04:42:32.973232Z",
     "iopub.status.idle": "2025-04-04T04:48:01.082889Z",
     "shell.execute_reply": "2025-04-04T04:48:01.082156Z",
     "shell.execute_reply.started": "2025-04-04T04:42:32.973463Z"
    },
    "trusted": true
   },
   "outputs": [],
   "source": [
    "%%time\n",
    "\n",
    "l1_penalty=1e-4\n",
    "l2_penalty=1e-3\n",
    "\n",
    "if tune_output == True:\n",
    "\n",
    "    # create the base pre-trained model\n",
    "    base_model=InceptionV3(weights='imagenet', include_top=False)\n",
    "\n",
    "    # Add some output layers\n",
    "    x=base_model.output\n",
    "    x=GlobalAveragePooling2D()(x)\n",
    "    x=Dropout(0.5)(x)\n",
    "    x=Dense(\n",
    "        1024,\n",
    "        activation='relu',\n",
    "        kernel_regularizer=regularizers.L1L2(l1=l1_penalty, l2=1e-3)\n",
    "    )(x)\n",
    "    x=Dense(\n",
    "        256,\n",
    "        activation='relu',\n",
    "        kernel_regularizer=regularizers.L1L2(l1=l1_penalty, l2=1e-3)\n",
    "    )(x)\n",
    "    x=Dense(\n",
    "        128,\n",
    "        activation='relu',\n",
    "        kernel_regularizer=regularizers.L1L2(l1=l1_penalty, l2=1e-3)\n",
    "    )(x)\n",
    "    x=Dense(\n",
    "        64,\n",
    "        activation='relu',\n",
    "        kernel_regularizer=regularizers.L1L2(l1=l1_penalty, l2=1e-3)\n",
    "    )(x)\n",
    "    predictions=Dense(1, activation='sigmoid')(x)\n",
    "\n",
    "    model=Model(inputs=base_model.input, outputs=predictions)\n",
    "\n",
    "    # Train only the output layers by freezing all convolutional InceptionV3 layers\n",
    "    for layer in base_model.layers:\n",
    "        layer.trainable = False\n",
    "\n",
    "    # Compile the model to train on binary cross-entropy loss\n",
    "    model.compile(optimizer='rmsprop', loss='binary_crossentropy', metrics=['binary_accuracy'])\n",
    "\n",
    "    # Train the model on the new data for a few epochs\n",
    "    training_result=model.fit(\n",
    "        training_dataset,\n",
    "        validation_data=validation_dataset,\n",
    "        epochs=10\n",
    "    )\n",
    "\n",
    "    # Save the results\n",
    "    with open(output_tuned_savefile, 'wb') as output_file:\n",
    "        pickle.dump(training_result, output_file, protocol=pickle.HIGHEST_PROTOCOL)\n",
    "\n",
    "else:\n",
    "    with open(output_tuned_savefile, 'rb') as output_file:\n",
    "        training_result=pickle.load(output_file)\n",
    "\n",
    "print()"
   ]
  },
  {
   "cell_type": "code",
   "execution_count": null,
   "metadata": {
    "execution": {
     "iopub.execute_input": "2025-04-04T04:48:01.084144Z",
     "iopub.status.busy": "2025-04-04T04:48:01.083823Z",
     "iopub.status.idle": "2025-04-04T04:48:01.533388Z",
     "shell.execute_reply": "2025-04-04T04:48:01.532500Z",
     "shell.execute_reply.started": "2025-04-04T04:48:01.084113Z"
    },
    "trusted": true
   },
   "outputs": [],
   "source": [
    "# Plot the results\n",
    "plot_single_training_run(training_result).show()"
   ]
  },
  {
   "cell_type": "markdown",
   "metadata": {},
   "source": [
    "### 2.2. Train inception layers"
   ]
  },
  {
   "cell_type": "code",
   "execution_count": null,
   "metadata": {
    "execution": {
     "iopub.execute_input": "2025-04-04T04:48:01.534660Z",
     "iopub.status.busy": "2025-04-04T04:48:01.534321Z",
     "iopub.status.idle": "2025-04-04T04:48:01.821657Z",
     "shell.execute_reply": "2025-04-04T04:48:01.820604Z",
     "shell.execute_reply.started": "2025-04-04T04:48:01.534626Z"
    },
    "trusted": true
   },
   "outputs": [],
   "source": [
    "# Take a look at the model and decide how many layers to freeze and how many to train\n",
    "training_result.model.summary()"
   ]
  },
  {
   "cell_type": "code",
   "execution_count": null,
   "metadata": {
    "execution": {
     "iopub.execute_input": "2025-04-04T04:48:01.824676Z",
     "iopub.status.busy": "2025-04-04T04:48:01.824305Z",
     "iopub.status.idle": "2025-04-04T04:54:29.864728Z",
     "shell.execute_reply": "2025-04-04T04:54:29.863971Z",
     "shell.execute_reply.started": "2025-04-04T04:48:01.824640Z"
    },
    "trusted": true
   },
   "outputs": [],
   "source": [
    "%%time\n",
    "\n",
    "if tune_inception_block is True:\n",
    "\n",
    "   # Train the top 2 inception blocks, by freezing the first 249 layers\n",
    "   # and leaving the rest unfrozen\n",
    "   for layer in model.layers[:249]:\n",
    "      layer.trainable = False\n",
    "   for layer in model.layers[249:]:\n",
    "      layer.trainable = True\n",
    "\n",
    "   # Recompile the model using SGD with a low learning rate\n",
    "   model.compile(\n",
    "      optimizer=SGD(learning_rate=0.0001, momentum=0.9),\n",
    "      loss='binary_crossentropy',\n",
    "      metrics=['binary_accuracy']\n",
    "   )\n",
    "\n",
    "   # Train again\n",
    "   training_result=model.fit(\n",
    "      training_dataset,\n",
    "      validation_data=validation_dataset,\n",
    "      epochs=20\n",
    "   )\n",
    "\n",
    "    # Save the results\n",
    "    with open(inception_tuned_savefile, 'wb') as output_file:\n",
    "        pickle.dump(training_result, output_file, protocol=pickle.HIGHEST_PROTOCOL)\n",
    "\n",
    "else:\n",
    "    with open(inception_tuned_savefile, 'rb') as output_file:\n",
    "        training_result=pickle.load(output_file)\n",
    "\n",
    "print()"
   ]
  },
  {
   "cell_type": "code",
   "execution_count": null,
   "metadata": {
    "execution": {
     "iopub.execute_input": "2025-04-04T04:54:29.866307Z",
     "iopub.status.busy": "2025-04-04T04:54:29.865983Z",
     "iopub.status.idle": "2025-04-04T04:54:30.230013Z",
     "shell.execute_reply": "2025-04-04T04:54:30.229132Z",
     "shell.execute_reply.started": "2025-04-04T04:54:29.866283Z"
    },
    "trusted": true
   },
   "outputs": [],
   "source": [
    "# Plot the results\n",
    "plot_single_training_run(training_result).show()"
   ]
  },
  {
   "cell_type": "markdown",
   "metadata": {},
   "source": [
    "## 3. Model evaluation\n",
    "\n",
    "### 3.2. Make predictions"
   ]
  },
  {
   "cell_type": "code",
   "execution_count": null,
   "metadata": {
    "execution": {
     "iopub.execute_input": "2025-04-04T04:56:49.113467Z",
     "iopub.status.busy": "2025-04-04T04:56:49.113121Z",
     "iopub.status.idle": "2025-04-04T04:57:02.984522Z",
     "shell.execute_reply": "2025-04-04T04:57:02.983515Z",
     "shell.execute_reply.started": "2025-04-04T04:56:49.113437Z"
    },
    "trusted": true
   },
   "outputs": [],
   "source": [
    "images=np.concatenate([x for x, y in validation_dataset], axis=0)\n",
    "labels=np.concatenate([y for x, y in validation_dataset], axis=0)\n",
    "\n",
    "predictions=training_result.model.predict(images)\n",
    "print(f'Testing images shape: {images.shape}')\n",
    "print(f'Testing labels shape: {labels.shape}')\n",
    "\n",
    "threshold=0.5\n",
    "predictions=[1 if p > threshold else 0 for p in predictions]\n",
    "\n",
    "accuracy=accuracy_score(predictions, labels)*100\n",
    "print(f'Test set accuracy: {accuracy:.1f}%')"
   ]
  },
  {
   "cell_type": "markdown",
   "metadata": {},
   "source": [
    "### 3.3. Model performance"
   ]
  },
  {
   "cell_type": "code",
   "execution_count": null,
   "metadata": {
    "execution": {
     "iopub.execute_input": "2025-04-04T04:57:07.390185Z",
     "iopub.status.busy": "2025-04-04T04:57:07.389895Z",
     "iopub.status.idle": "2025-04-04T04:57:07.573339Z",
     "shell.execute_reply": "2025-04-04T04:57:07.572425Z",
     "shell.execute_reply.started": "2025-04-04T04:57:07.390164Z"
    },
    "trusted": true
   },
   "outputs": [],
   "source": [
    "# Plot the confusion matrix\n",
    "cm=confusion_matrix(labels, predictions, normalize='true')\n",
    "cm_disp=ConfusionMatrixDisplay(confusion_matrix=cm)\n",
    "_=cm_disp.plot()\n",
    "\n",
    "plt.title(f'Test set performance\\noverall accuracy: {accuracy:.1f}%')\n",
    "plt.xlabel('Predicted class')\n",
    "plt.ylabel('True class')\n",
    "plt.show()"
   ]
  }
 ],
 "metadata": {
  "kaggle": {
   "accelerator": "gpu",
   "dataSources": [
    {
     "databundleVersionId": 31148,
     "isSourceIdPinned": false,
     "sourceId": 3362,
     "sourceType": "competition"
    }
   ],
   "isGpuEnabled": true,
   "isInternetEnabled": true,
   "language": "python",
   "sourceType": "notebook"
  },
  "kernelspec": {
   "display_name": ".venv-GPU",
   "language": "python",
   "name": "python3"
  },
  "language_info": {
   "codemirror_mode": {
    "name": "ipython",
    "version": 3
   },
   "file_extension": ".py",
   "mimetype": "text/x-python",
   "name": "python",
   "nbconvert_exporter": "python",
   "pygments_lexer": "ipython3",
   "version": "3.8.10"
  }
 },
 "nbformat": 4,
 "nbformat_minor": 4
}
